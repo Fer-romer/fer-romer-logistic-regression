{
 "cells": [
  {
   "cell_type": "markdown",
   "metadata": {},
   "source": [
    "# Machine Learning"
   ]
  },
  {
   "cell_type": "code",
   "execution_count": 61,
   "metadata": {},
   "outputs": [
    {
     "data": {
      "text/plain": [
       "'NOTE: This affects only the display and not the underlying data, which remains unchanged.'"
      ]
     },
     "execution_count": 61,
     "metadata": {},
     "output_type": "execute_result"
    }
   ],
   "source": [
    "import pandas as pd\n",
    "import warnings\n",
    "\n",
    "def ignore_warn(*args, **kwargs):\n",
    "    pass\n",
    "warnings.warn = ignore_warn # ignore annoying warning (from sklearn and seaborn)\n",
    "\n",
    "pd.set_option('display.float_format', lambda x: '{:.3f}'.format(x)) #Limiting floats output to 3 decimal points\n",
    "'''NOTE: This affects only the display and not the underlying data, which remains unchanged.'''"
   ]
  },
  {
   "cell_type": "markdown",
   "metadata": {},
   "source": [
    "### 1. Decision making: Which is the best dataset?"
   ]
  },
  {
   "cell_type": "code",
   "execution_count": 62,
   "metadata": {},
   "outputs": [],
   "source": [
    "# Train data frames\n",
    "X_train_with_outliers_sel = pd.read_csv('../data/processed/X_train_with_outliers_sel.csv')\n",
    "X_train_without_outliers_sel = pd.read_csv('../data/processed/X_train_without_outliers_sel.csv')\n",
    "X_train_with_outliers_norm_sel = pd.read_csv('../data/processed/X_train_with_outliers_norm_sel.csv')\n",
    "X_train_without_outliers_norm_sel = pd.read_csv('../data/processed/X_train_without_outliers_norm_sel.csv')\n",
    "X_train_with_outliers_minmax_sel = pd.read_csv('../data/processed/X_train_with_outliers_minmax_sel.csv')\n",
    "X_train_without_outliers_minmax_sel = pd.read_csv('../data/processed/X_train_without_outliers_minmax_sel.csv')\n",
    "y_train = pd.read_csv('../data/processed/y_train.csv')\n",
    "\n",
    "# Test data frames\n",
    "X_test_with_outliers_sel = pd.read_csv('../data/processed/X_test_with_outliers_sel.csv')\n",
    "X_test_without_outliers_sel = pd.read_csv('../data/processed/X_test_without_outliers_sel.csv')\n",
    "X_test_with_outliers_norm_sel = pd.read_csv('../data/processed/X_test_with_outliers_norm_sel.csv')\n",
    "X_test_without_outliers_norm_sel = pd.read_csv('../data/processed/X_test_without_outliers_norm_sel.csv')\n",
    "X_test_with_outliers_minmax_sel = pd.read_csv('../data/processed/X_test_with_outliers_minmax_sel.csv')\n",
    "X_test_without_outliers_minmax_sel = pd.read_csv('../data/processed/X_test_without_outliers_minmax_sel.csv')\n",
    "y_test = pd.read_csv('../data/processed/y_test.csv')"
   ]
  },
  {
   "cell_type": "code",
   "execution_count": 63,
   "metadata": {},
   "outputs": [
    {
     "data": {
      "text/plain": [
       "[{'index': 2,\n",
       "  'train_df': 'X_train_with_outliers_norm_sel',\n",
       "  'train_score': 0.9092289010321797,\n",
       "  'test_score': 0.9031083050024283},\n",
       " {'index': 4,\n",
       "  'train_df': 'X_train_with_outliers_minmax_sel',\n",
       "  'train_score': 0.9086520947176685,\n",
       "  'test_score': 0.9022583778533269},\n",
       " {'index': 0,\n",
       "  'train_df': 'X_train_with_outliers_sel',\n",
       "  'train_score': 0.9055555555555556,\n",
       "  'test_score': 0.897887323943662},\n",
       " {'index': 3,\n",
       "  'train_df': 'X_train_without_outliers_norm_sel',\n",
       "  'train_score': 0.9051912568306011,\n",
       "  'test_score': 0.9011656143759106},\n",
       " {'index': 5,\n",
       "  'train_df': 'X_train_without_outliers_minmax_sel',\n",
       "  'train_score': 0.9044930176077717,\n",
       "  'test_score': 0.9011656143759106},\n",
       " {'index': 1,\n",
       "  'train_df': 'X_train_without_outliers_sel',\n",
       "  'train_score': 0.9022161505768063,\n",
       "  'test_score': 0.896551724137931}]"
      ]
     },
     "execution_count": 63,
     "metadata": {},
     "output_type": "execute_result"
    }
   ],
   "source": [
    "from sklearn.linear_model import LogisticRegression\n",
    "from sklearn.metrics import accuracy_score\n",
    "\n",
    "train_dicts = {\n",
    "  \"X_train_with_outliers_sel\": X_train_with_outliers_sel,\n",
    "  \"X_train_without_outliers_sel\": X_train_without_outliers_sel,\n",
    "  \"X_train_with_outliers_norm_sel\": X_train_with_outliers_norm_sel,\n",
    "  \"X_train_without_outliers_norm_sel\": X_train_without_outliers_norm_sel,\n",
    "  \"X_train_with_outliers_minmax_sel\": X_train_with_outliers_minmax_sel,\n",
    "  \"X_train_without_outliers_minmax_sel\": X_train_without_outliers_minmax_sel\n",
    "}\n",
    "\n",
    "test_dicts = {\n",
    "  \"X_test_with_outliers_sel\": X_test_with_outliers_sel,\n",
    "  \"X_test_without_outliers_sel\": X_test_without_outliers_sel,\n",
    "  \"X_test_with_outliers_norm_sel\": X_test_with_outliers_norm_sel,\n",
    "  \"X_test_without_outliers_norm_sel\": X_test_without_outliers_norm_sel,\n",
    "  \"X_test_with_outliers_minmax_sel\": X_test_with_outliers_minmax_sel,\n",
    "  \"X_test_without_outliers_minmax_sel\": X_test_without_outliers_minmax_sel\n",
    "}\n",
    "\n",
    "train_dfs = [\n",
    "  X_train_with_outliers_sel,\n",
    "  X_train_without_outliers_sel,\n",
    "  X_train_with_outliers_norm_sel,\n",
    "  X_train_without_outliers_norm_sel,\n",
    "  X_train_with_outliers_minmax_sel,\n",
    "  X_train_without_outliers_minmax_sel\n",
    "]\n",
    "test_dfs = [\n",
    "  X_test_with_outliers_sel,\n",
    "  X_test_without_outliers_sel,\n",
    "  X_test_with_outliers_norm_sel,\n",
    "  X_test_without_outliers_norm_sel,\n",
    "  X_test_with_outliers_minmax_sel,\n",
    "  X_test_without_outliers_minmax_sel\n",
    "]\n",
    "\n",
    "results = []\n",
    "\n",
    "for df_index in range(len(train_dfs)):\n",
    "  model = LogisticRegression()\n",
    "  train_df = train_dfs[df_index]\n",
    "  model.fit(train_df, y_train)\n",
    "  y_train_pred = model.predict(train_df)\n",
    "  y_test_pred = model.predict(test_dfs[df_index])\n",
    "\n",
    "  results.append(\n",
    "    {\n",
    "        \"index\": df_index,\n",
    "        \"train_df\": list(train_dicts.keys())[df_index],\n",
    "        \"train_score\": accuracy_score(y_train, y_train_pred),\n",
    "        \"test_score\": accuracy_score(y_test, y_test_pred)\n",
    "    }\n",
    "  )\n",
    "\n",
    "sorted(results, key = lambda x: x[\"train_score\"], reverse = True)"
   ]
  }
 ],
 "metadata": {
  "kernelspec": {
   "display_name": "base",
   "language": "python",
   "name": "python3"
  },
  "language_info": {
   "codemirror_mode": {
    "name": "ipython",
    "version": 3
   },
   "file_extension": ".py",
   "mimetype": "text/x-python",
   "name": "python",
   "nbconvert_exporter": "python",
   "pygments_lexer": "ipython3",
   "version": "3.12.4"
  }
 },
 "nbformat": 4,
 "nbformat_minor": 2
}
